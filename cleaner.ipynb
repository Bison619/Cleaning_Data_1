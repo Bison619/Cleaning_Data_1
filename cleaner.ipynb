{
 "cells": [
  {
   "cell_type": "code",
   "execution_count": 1,
   "id": "a46b391c-d737-43d4-8707-0f1076c7366b",
   "metadata": {},
   "outputs": [],
   "source": [
    "import pandas as pd \n",
    "import numpy as np\n",
    "import matplotlib.pyplot as plt\n",
    "import seaborn as sns"
   ]
  },
  {
   "cell_type": "code",
   "execution_count": 2,
   "id": "e67caf85-f9ec-4385-a2f4-6043f3af7cbf",
   "metadata": {},
   "outputs": [],
   "source": [
    "df = pd.read_csv(\"my_file (1).csv\")"
   ]
  },
  {
   "cell_type": "code",
   "execution_count": 3,
   "id": "c9f302d1-22c1-4667-afbd-ecf5d9a155de",
   "metadata": {},
   "outputs": [
    {
     "data": {
      "text/plain": [
       "(20, 11)"
      ]
     },
     "execution_count": 3,
     "metadata": {},
     "output_type": "execute_result"
    }
   ],
   "source": [
    "df.shape"
   ]
  },
  {
   "cell_type": "code",
   "execution_count": 4,
   "id": "f13fca70-ffe6-4aac-a437-52d228fa37dd",
   "metadata": {},
   "outputs": [
    {
     "data": {
      "text/html": [
       "<div>\n",
       "<style scoped>\n",
       "    .dataframe tbody tr th:only-of-type {\n",
       "        vertical-align: middle;\n",
       "    }\n",
       "\n",
       "    .dataframe tbody tr th {\n",
       "        vertical-align: top;\n",
       "    }\n",
       "\n",
       "    .dataframe thead th {\n",
       "        text-align: right;\n",
       "    }\n",
       "</style>\n",
       "<table border=\"1\" class=\"dataframe\">\n",
       "  <thead>\n",
       "    <tr style=\"text-align: right;\">\n",
       "      <th></th>\n",
       "      <th>Rank</th>\n",
       "      <th>Peak</th>\n",
       "      <th>All Time Peak</th>\n",
       "      <th>Actual gross</th>\n",
       "      <th>Adjusted gross (in 2022 dollars)</th>\n",
       "      <th>Artist</th>\n",
       "      <th>Tour title</th>\n",
       "      <th>Year(s)</th>\n",
       "      <th>Shows</th>\n",
       "      <th>Average gross</th>\n",
       "      <th>Ref.</th>\n",
       "    </tr>\n",
       "  </thead>\n",
       "  <tbody>\n",
       "    <tr>\n",
       "      <th>0</th>\n",
       "      <td>1</td>\n",
       "      <td>1</td>\n",
       "      <td>2</td>\n",
       "      <td>$780,000,000</td>\n",
       "      <td>$780,000,000</td>\n",
       "      <td>Taylor Swift</td>\n",
       "      <td>The Eras Tour †</td>\n",
       "      <td>2023–2024</td>\n",
       "      <td>56</td>\n",
       "      <td>$13,928,571</td>\n",
       "      <td>[1]</td>\n",
       "    </tr>\n",
       "    <tr>\n",
       "      <th>1</th>\n",
       "      <td>2</td>\n",
       "      <td>1</td>\n",
       "      <td>7[2]</td>\n",
       "      <td>$579,800,000</td>\n",
       "      <td>$579,800,000</td>\n",
       "      <td>Beyoncé</td>\n",
       "      <td>Renaissance World Tour</td>\n",
       "      <td>2023</td>\n",
       "      <td>56</td>\n",
       "      <td>$10,353,571</td>\n",
       "      <td>[3]</td>\n",
       "    </tr>\n",
       "    <tr>\n",
       "      <th>2</th>\n",
       "      <td>3</td>\n",
       "      <td>1[4]</td>\n",
       "      <td>2[5]</td>\n",
       "      <td>$411,000,000</td>\n",
       "      <td>$560,622,615</td>\n",
       "      <td>Madonna</td>\n",
       "      <td>Sticky &amp; Sweet Tour ‡[4][a]</td>\n",
       "      <td>2008–2009</td>\n",
       "      <td>85</td>\n",
       "      <td>$4,835,294</td>\n",
       "      <td>[6]</td>\n",
       "    </tr>\n",
       "    <tr>\n",
       "      <th>3</th>\n",
       "      <td>4</td>\n",
       "      <td>2[7]</td>\n",
       "      <td>10[7]</td>\n",
       "      <td>$397,300,000</td>\n",
       "      <td>$454,751,555</td>\n",
       "      <td>Pink</td>\n",
       "      <td>Beautiful Trauma World Tour</td>\n",
       "      <td>2018–2019</td>\n",
       "      <td>156</td>\n",
       "      <td>$2,546,795</td>\n",
       "      <td>[7]</td>\n",
       "    </tr>\n",
       "    <tr>\n",
       "      <th>4</th>\n",
       "      <td>5</td>\n",
       "      <td>2[4]</td>\n",
       "      <td>NaN</td>\n",
       "      <td>$345,675,146</td>\n",
       "      <td>$402,844,849</td>\n",
       "      <td>Taylor Swift</td>\n",
       "      <td>Reputation Stadium Tour</td>\n",
       "      <td>2018</td>\n",
       "      <td>53</td>\n",
       "      <td>$6,522,173</td>\n",
       "      <td>[8]</td>\n",
       "    </tr>\n",
       "  </tbody>\n",
       "</table>\n",
       "</div>"
      ],
      "text/plain": [
       "   Rank  Peak All Time Peak  Actual gross Adjusted gross (in 2022 dollars)  \\\n",
       "0     1     1             2  $780,000,000                     $780,000,000   \n",
       "1     2     1          7[2]  $579,800,000                     $579,800,000   \n",
       "2     3  1[4]          2[5]  $411,000,000                     $560,622,615   \n",
       "3     4  2[7]         10[7]  $397,300,000                     $454,751,555   \n",
       "4     5  2[4]           NaN  $345,675,146                     $402,844,849   \n",
       "\n",
       "         Artist                   Tour title    Year(s)  Shows Average gross  \\\n",
       "0  Taylor Swift              The Eras Tour †  2023–2024     56   $13,928,571   \n",
       "1       Beyoncé       Renaissance World Tour       2023     56   $10,353,571   \n",
       "2       Madonna  Sticky & Sweet Tour ‡[4][a]  2008–2009     85    $4,835,294   \n",
       "3          Pink  Beautiful Trauma World Tour  2018–2019    156    $2,546,795   \n",
       "4  Taylor Swift      Reputation Stadium Tour       2018     53    $6,522,173   \n",
       "\n",
       "  Ref.  \n",
       "0  [1]  \n",
       "1  [3]  \n",
       "2  [6]  \n",
       "3  [7]  \n",
       "4  [8]  "
      ]
     },
     "execution_count": 4,
     "metadata": {},
     "output_type": "execute_result"
    }
   ],
   "source": [
    "df.head()"
   ]
  },
  {
   "cell_type": "code",
   "execution_count": 11,
   "id": "a6f82a29-585b-4733-a78e-efb29ebf1c59",
   "metadata": {},
   "outputs": [
    {
     "name": "stdout",
     "output_type": "stream",
     "text": [
      "<class 'pandas.core.frame.DataFrame'>\n",
      "RangeIndex: 20 entries, 0 to 19\n",
      "Data columns (total 11 columns):\n",
      " #   Column                            Non-Null Count  Dtype \n",
      "---  ------                            --------------  ----- \n",
      " 0   Rank                              20 non-null     int64 \n",
      " 1   Peak                              9 non-null      object\n",
      " 2   All Time Peak                     6 non-null      object\n",
      " 3   Actual gross                      20 non-null     object\n",
      " 4   Adjusted gross (in 2022 dollars)  20 non-null     object\n",
      " 5   Artist                            20 non-null     object\n",
      " 6   Tour title                        20 non-null     object\n",
      " 7   Year(s)                           20 non-null     object\n",
      " 8   Shows                             20 non-null     int64 \n",
      " 9   Average gross                     20 non-null     object\n",
      " 10  Ref.                              20 non-null     object\n",
      "dtypes: int64(2), object(9)\n",
      "memory usage: 1.8+ KB\n"
     ]
    }
   ],
   "source": [
    "df.info()"
   ]
  },
  {
   "cell_type": "code",
   "execution_count": 5,
   "id": "3a05140f-3d95-4702-91e6-923bd9351245",
   "metadata": {},
   "outputs": [
    {
     "name": "stdout",
     "output_type": "stream",
     "text": [
      "[ 1  2  3  4  5  6  7  9 10 11 12 13 14 15 16 17 18 19 20]\n",
      "--------------------\n",
      "['1' '1[4]' '2[7]' '2[4]' '2[10]' nan '1[20]' '2[c]']\n",
      "--------------------\n",
      "['2' '7[2]' '2[5]' '10[7]' nan '10[9]' '14[17]']\n",
      "--------------------\n",
      "['$780,000,000' '$579,800,000' '$411,000,000' '$397,300,000'\n",
      " '$345,675,146' '$305,158,363' '$280,000,000' '$257,600,000'\n",
      " '$256,084,556' '$250,400,000' '$229,100,000[b]' '$227,400,000'\n",
      " '$204,000,000' '$200,000,000' '$194,000,000' '$184,000,000'\n",
      " '$170,000,000' '$169,800,000' '$167,700,000[e]' '$150,000,000']\n",
      "--------------------\n",
      "['$780,000,000' '$579,800,000' '$560,622,615' '$454,751,555'\n",
      " '$402,844,849' '$388,978,496' '$381,932,682' '$257,600,000'\n",
      " '$312,258,401' '$309,141,878' '$283,202,896' '$295,301,479'\n",
      " '$251,856,802' '$299,676,265' '$281,617,035' '$227,452,347'\n",
      " '$213,568,571' '$207,046,755' '$204,486,106' '$185,423,109']\n",
      "--------------------\n",
      "['Taylor Swift' 'Beyoncé' 'Madonna' 'Pink' 'Celine Dion' 'Lady Gaga'\n",
      " 'Katy Perry' 'Cher' 'Adele']\n",
      "--------------------\n",
      "['The Eras Tour †' 'Renaissance World Tour' 'Sticky & Sweet Tour ‡[4][a]'\n",
      " 'Beautiful Trauma World Tour' 'Reputation Stadium Tour' 'The MDNA Tour'\n",
      " 'Taking Chances World Tour' 'Summer Carnival †'\n",
      " 'The Formation World Tour' 'The 1989 World Tour'\n",
      " 'The Mrs. Carter Show World Tour' 'The Monster Ball Tour *'\n",
      " 'Prismatic World Tour' 'Living Proof: The Farewell Tour ‡[21][a]'\n",
      " 'Confessions Tour' 'The Truth About Love Tour' 'Born This Way Ball'\n",
      " 'Rebel Heart Tour' 'Adele Live 2016' 'The Red Tour']\n",
      "--------------------\n",
      "['2023–2024' '2023' '2008–2009' '2018–2019' '2018' '2012' '2016' '2015'\n",
      " '2013–2014' '2009–2011' '2014–2015' '2002–2005' '2006' '2012–2013'\n",
      " '2015–2016' '2016–2017']\n",
      "--------------------\n",
      "[ 56  85 156  53  88 131  41  49 132 203 151 325  60 142  98  82 121  86]\n",
      "--------------------\n",
      "['$13,928,571' '$10,353,571' '$4,835,294' '$2,546,795' '$6,522,173'\n",
      " '$3,467,709' '$2,137,405' '$6,282,927' '$5,226,215' '$2,945,882'\n",
      " '$1,735,606' '$1,118,227' '$1,350,993' '$615,385' '$3,233,333'\n",
      " '$1,295,775' '$1,734,694' '$2,070,732' '$1,385,950' '$1,744,186']\n",
      "--------------------\n",
      "['[1]' '[3]' '[6]' '[7]' '[8]' '[9]' '[11]' '[12]' '[13]' '[14]'\n",
      " '[15][16]' '[18]' '[19]' '[20]' '[5]' '[22]' '[d]' '[4]' '[25]' '[26]']\n",
      "--------------------\n"
     ]
    }
   ],
   "source": [
    "for column in df.columns:\n",
    "    print(df[column].unique())\n",
    "    print('-'* 20)"
   ]
  }
 ],
 "metadata": {
  "kernelspec": {
   "display_name": "Python 3 (ipykernel)",
   "language": "python",
   "name": "python3"
  },
  "language_info": {
   "codemirror_mode": {
    "name": "ipython",
    "version": 3
   },
   "file_extension": ".py",
   "mimetype": "text/x-python",
   "name": "python",
   "nbconvert_exporter": "python",
   "pygments_lexer": "ipython3",
   "version": "3.12.1"
  }
 },
 "nbformat": 4,
 "nbformat_minor": 5
}
